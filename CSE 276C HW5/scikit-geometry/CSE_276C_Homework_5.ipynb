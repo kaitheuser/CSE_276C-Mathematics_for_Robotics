{
 "cells": [
  {
   "cell_type": "markdown",
   "metadata": {},
   "source": [
    "**Name :** Kai Chuen Tan<br>\n",
    "**Professor :** Dr. Henrik Christensen<br>\n",
    "**Date :** 23rd November 2021<br>"
   ]
  },
  {
   "cell_type": "markdown",
   "metadata": {},
   "source": [
    "## Homework 5 (Final) - CSE 276C - Math for Robotics\n",
    "\n",
    "The world model is shown in figure 1. The robot is a differential drive system with a square geometry of size 50 $\\times$ 50."
   ]
  },
  {
   "cell_type": "markdown",
   "metadata": {},
   "source": [
    "![title](Configuration_Space.png)"
   ]
  },
  {
   "cell_type": "markdown",
   "metadata": {},
   "source": [
    "### Problem 1\n",
    "Generate the configuration space for the robot with a grid size of 2 $\\times$ 2 and 5 deg in angular resolution. Generate an illustration of what the configuration space looks like with the robot at orientations 0, 45 and 90 deg."
   ]
  },
  {
   "cell_type": "code",
   "execution_count": 5,
   "metadata": {},
   "outputs": [
    {
     "name": "stdout",
     "output_type": "stream",
     "text": [
      "Non-user install because site-packages writeable\n",
      "Created temporary directory: /private/var/folders/0k/g93dsq6s2z379tssnq8sczz00000gn/T/pip-ephem-wheel-cache-bzuqjxyk\n",
      "Created temporary directory: /private/var/folders/0k/g93dsq6s2z379tssnq8sczz00000gn/T/pip-req-tracker-l00jf5lx\n",
      "Initialized build tracking at /private/var/folders/0k/g93dsq6s2z379tssnq8sczz00000gn/T/pip-req-tracker-l00jf5lx\n",
      "Created build tracker: /private/var/folders/0k/g93dsq6s2z379tssnq8sczz00000gn/T/pip-req-tracker-l00jf5lx\n",
      "Entered build tracker: /private/var/folders/0k/g93dsq6s2z379tssnq8sczz00000gn/T/pip-req-tracker-l00jf5lx\n",
      "Created temporary directory: /private/var/folders/0k/g93dsq6s2z379tssnq8sczz00000gn/T/pip-install-kliijk1v\n",
      "Obtaining file:///Users/kaitheuser/Desktop/My%20Documents/UCSD/Fall%202021%20Quarter/CSE%20276C%20-%20Mathematics%20for%20Robotics/Week%2010/scikit-geometry\n",
      "  Added file:///Users/kaitheuser/Desktop/My%20Documents/UCSD/Fall%202021%20Quarter/CSE%20276C%20-%20Mathematics%20for%20Robotics/Week%2010/scikit-geometry to build tracker '/private/var/folders/0k/g93dsq6s2z379tssnq8sczz00000gn/T/pip-req-tracker-l00jf5lx'\n",
      "    Running setup.py (path:/Users/kaitheuser/Desktop/My Documents/UCSD/Fall 2021 Quarter/CSE 276C - Mathematics for Robotics/Week 10/scikit-geometry/setup.py) egg_info for package from file:///Users/kaitheuser/Desktop/My%20Documents/UCSD/Fall%202021%20Quarter/CSE%20276C%20-%20Mathematics%20for%20Robotics/Week%2010/scikit-geometry\n",
      "    Running command python setup.py egg_info\n",
      "    Could not determine CGAL version.\n",
      "    Looking for CGAL in:  /Users/kaitheuser/opt/anaconda3\n",
      "    running egg_info\n",
      "    writing skgeom.egg-info/PKG-INFO\n",
      "    writing dependency_links to skgeom.egg-info/dependency_links.txt\n",
      "    writing requirements to skgeom.egg-info/requires.txt\n",
      "    writing top-level names to skgeom.egg-info/top_level.txt\n",
      "    reading manifest file 'skgeom.egg-info/SOURCES.txt'\n",
      "    reading manifest template 'MANIFEST.in'\n",
      "    writing manifest file 'skgeom.egg-info/SOURCES.txt'\n",
      "  Source in /Users/kaitheuser/Desktop/My Documents/UCSD/Fall 2021 Quarter/CSE 276C - Mathematics for Robotics/Week 10/scikit-geometry has version 0.1.2, which satisfies requirement skgeom==0.1.2 from file:///Users/kaitheuser/Desktop/My%20Documents/UCSD/Fall%202021%20Quarter/CSE%20276C%20-%20Mathematics%20for%20Robotics/Week%2010/scikit-geometry\n",
      "  Removed skgeom==0.1.2 from file:///Users/kaitheuser/Desktop/My%20Documents/UCSD/Fall%202021%20Quarter/CSE%20276C%20-%20Mathematics%20for%20Robotics/Week%2010/scikit-geometry from build tracker '/private/var/folders/0k/g93dsq6s2z379tssnq8sczz00000gn/T/pip-req-tracker-l00jf5lx'\n",
      "Requirement already satisfied: pybind11<2.8,>=2.3 in /Users/kaitheuser/opt/anaconda3/lib/python3.7/site-packages (from skgeom==0.1.2) (2.7.1)\n",
      "Requirement already satisfied: numpy in /Users/kaitheuser/opt/anaconda3/lib/python3.7/site-packages (from skgeom==0.1.2) (1.18.1)\n",
      "Installing collected packages: skgeom\n",
      "  Attempting uninstall: skgeom\n",
      "    Found existing installation: skgeom 0.1.2\n",
      "    Not sure how to uninstall: skgeom 0.1.2 - Check: /Users/kaitheuser/Desktop/My Documents/UCSD/Fall 2021 Quarter/CSE 276C - Mathematics for Robotics/Week 10/scikit-geometry\n",
      "    Can't uninstall 'skgeom'. No files were found to uninstall.\n",
      "  Running setup.py develop for skgeom\n",
      "    Running command /Users/kaitheuser/opt/anaconda3/bin/python -c 'import sys, setuptools, tokenize; sys.argv[0] = '\"'\"'/Users/kaitheuser/Desktop/My Documents/UCSD/Fall 2021 Quarter/CSE 276C - Mathematics for Robotics/Week 10/scikit-geometry/setup.py'\"'\"'; __file__='\"'\"'/Users/kaitheuser/Desktop/My Documents/UCSD/Fall 2021 Quarter/CSE 276C - Mathematics for Robotics/Week 10/scikit-geometry/setup.py'\"'\"';f=getattr(tokenize, '\"'\"'open'\"'\"', open)(__file__);code=f.read().replace('\"'\"'\\r\\n'\"'\"', '\"'\"'\\n'\"'\"');f.close();exec(compile(code, __file__, '\"'\"'exec'\"'\"'))' develop --no-deps\n",
      "    Could not determine CGAL version.\n",
      "    Looking for CGAL in:  /Users/kaitheuser/opt/anaconda3\n",
      "    running develop\n",
      "    running egg_info\n",
      "    writing skgeom.egg-info/PKG-INFO\n",
      "    writing dependency_links to skgeom.egg-info/dependency_links.txt\n",
      "    writing requirements to skgeom.egg-info/requires.txt\n",
      "    writing top-level names to skgeom.egg-info/top_level.txt\n",
      "    reading manifest file 'skgeom.egg-info/SOURCES.txt'\n",
      "    reading manifest template 'MANIFEST.in'\n",
      "    writing manifest file 'skgeom.egg-info/SOURCES.txt'\n",
      "    running build_ext\n",
      "    gcc -Wno-unused-result -Wsign-compare -Wunreachable-code -DNDEBUG -g -fwrapv -O3 -Wall -Wstrict-prototypes -I/Users/kaitheuser/opt/anaconda3/include -arch x86_64 -I/Users/kaitheuser/opt/anaconda3/include -arch x86_64 -I/Users/kaitheuser/opt/anaconda3/include/python3.7m -c /var/folders/0k/g93dsq6s2z379tssnq8sczz00000gn/T/tmpjzp5hy8z.cpp -o var/folders/0k/g93dsq6s2z379tssnq8sczz00000gn/T/tmpjzp5hy8z.o -std=c++17 -stdlib=libc++\n",
      "    gcc -Wno-unused-result -Wsign-compare -Wunreachable-code -DNDEBUG -g -fwrapv -O3 -Wall -Wstrict-prototypes -I/Users/kaitheuser/opt/anaconda3/include -arch x86_64 -I/Users/kaitheuser/opt/anaconda3/include -arch x86_64 -I/Users/kaitheuser/opt/anaconda3/include/python3.7m -c /var/folders/0k/g93dsq6s2z379tssnq8sczz00000gn/T/tmpkburnckf.cpp -o var/folders/0k/g93dsq6s2z379tssnq8sczz00000gn/T/tmpkburnckf.o -fvisibility=hidden -stdlib=libc++\n",
      "    building 'skgeom._skgeom' extension\n",
      "    gcc -Wno-unused-result -Wsign-compare -Wunreachable-code -DNDEBUG -g -fwrapv -O3 -Wall -Wstrict-prototypes -I/Users/kaitheuser/opt/anaconda3/include -arch x86_64 -I/Users/kaitheuser/opt/anaconda3/include -arch x86_64 -I./include/ -I./src/docs/ -I/Users/kaitheuser/opt/anaconda3/lib/python3.7/site-packages/pybind11/include -I/Users/kaitheuser/opt/anaconda3/lib/python3.7/site-packages/pybind11/include -I/Users/kaitheuser/opt/anaconda3/Library/include -I/Users/kaitheuser/opt/anaconda3/include/python3.7m -c src/simplification.cpp -o build/temp.macosx-10.9-x86_64-3.7/src/simplification.o -stdlib=libc++ -mmacosx-version-min=10.14 -DVERSION_INFO=\"0.1.2\" -std=c++17 -fvisibility=hidden -DCGAL_DEBUG=1\n",
      "    In file included from src/simplification.cpp:1:\n",
      "    ./include/skgeom.hpp:2:10: fatal error: 'CGAL/Exact_predicates_exact_constructions_kernel.h' file not found\n",
      "    #include <CGAL/Exact_predicates_exact_constructions_kernel.h>\n",
      "             ^~~~~~~~~~~~~~~~~~~~~~~~~~~~~~~~~~~~~~~~~~~~~~~~~~~~\n",
      "    1 error generated.\n",
      "    error: command 'gcc' failed with exit status 1\n",
      "\u001b[31m  ERROR: Can't roll back skgeom; was not uninstalled\u001b[0m\n",
      "Cleaning up...\n",
      "Removed build tracker: '/private/var/folders/0k/g93dsq6s2z379tssnq8sczz00000gn/T/pip-req-tracker-l00jf5lx'\n",
      "\u001b[31mERROR: Command errored out with exit status 1: /Users/kaitheuser/opt/anaconda3/bin/python -c 'import sys, setuptools, tokenize; sys.argv[0] = '\"'\"'/Users/kaitheuser/Desktop/My Documents/UCSD/Fall 2021 Quarter/CSE 276C - Mathematics for Robotics/Week 10/scikit-geometry/setup.py'\"'\"'; __file__='\"'\"'/Users/kaitheuser/Desktop/My Documents/UCSD/Fall 2021 Quarter/CSE 276C - Mathematics for Robotics/Week 10/scikit-geometry/setup.py'\"'\"';f=getattr(tokenize, '\"'\"'open'\"'\"', open)(__file__);code=f.read().replace('\"'\"'\\r\\n'\"'\"', '\"'\"'\\n'\"'\"');f.close();exec(compile(code, __file__, '\"'\"'exec'\"'\"'))' develop --no-deps Check the logs for full command output.\u001b[0m\n",
      "Exception information:\n",
      "Traceback (most recent call last):\n",
      "  File \"/Users/kaitheuser/opt/anaconda3/lib/python3.7/site-packages/pip/_internal/cli/base_command.py\", line 186, in _main\n",
      "    status = self.run(options, args)\n",
      "  File \"/Users/kaitheuser/opt/anaconda3/lib/python3.7/site-packages/pip/_internal/commands/install.py\", line 404, in run\n",
      "    use_user_site=options.use_user_site,\n",
      "  File \"/Users/kaitheuser/opt/anaconda3/lib/python3.7/site-packages/pip/_internal/req/__init__.py\", line 71, in install_given_reqs\n",
      "    **kwargs\n",
      "  File \"/Users/kaitheuser/opt/anaconda3/lib/python3.7/site-packages/pip/_internal/req/req_install.py\", line 802, in install\n",
      "    unpacked_source_directory=self.unpacked_source_directory,\n",
      "  File \"/Users/kaitheuser/opt/anaconda3/lib/python3.7/site-packages/pip/_internal/operations/install/editable_legacy.py\", line 51, in install_editable\n",
      "    cwd=unpacked_source_directory,\n",
      "  File \"/Users/kaitheuser/opt/anaconda3/lib/python3.7/site-packages/pip/_internal/utils/subprocess.py\", line 242, in call_subprocess\n",
      "    raise InstallationError(exc_msg)\n",
      "pip._internal.exceptions.InstallationError: Command errored out with exit status 1: /Users/kaitheuser/opt/anaconda3/bin/python -c 'import sys, setuptools, tokenize; sys.argv[0] = '\"'\"'/Users/kaitheuser/Desktop/My Documents/UCSD/Fall 2021 Quarter/CSE 276C - Mathematics for Robotics/Week 10/scikit-geometry/setup.py'\"'\"'; __file__='\"'\"'/Users/kaitheuser/Desktop/My Documents/UCSD/Fall 2021 Quarter/CSE 276C - Mathematics for Robotics/Week 10/scikit-geometry/setup.py'\"'\"';f=getattr(tokenize, '\"'\"'open'\"'\"', open)(__file__);code=f.read().replace('\"'\"'\\r\\n'\"'\"', '\"'\"'\\n'\"'\"');f.close();exec(compile(code, __file__, '\"'\"'exec'\"'\"'))' develop --no-deps Check the logs for full command output.\n"
     ]
    }
   ],
   "source": [
    "!python -m pip install -e . -v"
   ]
  },
  {
   "cell_type": "code",
   "execution_count": 4,
   "metadata": {},
   "outputs": [
    {
     "ename": "ModuleNotFoundError",
     "evalue": "No module named 'skgeom._skgeom'",
     "output_type": "error",
     "traceback": [
      "\u001b[0;31m---------------------------------------------------------------------------\u001b[0m",
      "\u001b[0;31mModuleNotFoundError\u001b[0m                       Traceback (most recent call last)",
      "\u001b[0;32m<ipython-input-4-275bbd01b40f>\u001b[0m in \u001b[0;36m<module>\u001b[0;34m\u001b[0m\n\u001b[1;32m      3\u001b[0m \u001b[0;32mfrom\u001b[0m \u001b[0mmatplotlib\u001b[0m\u001b[0;34m.\u001b[0m\u001b[0mpatches\u001b[0m \u001b[0;32mimport\u001b[0m \u001b[0mRectangle\u001b[0m\u001b[0;34m\u001b[0m\u001b[0;34m\u001b[0m\u001b[0m\n\u001b[1;32m      4\u001b[0m \u001b[0;32mimport\u001b[0m \u001b[0mnumpy\u001b[0m \u001b[0;32mas\u001b[0m \u001b[0mnp\u001b[0m\u001b[0;34m\u001b[0m\u001b[0;34m\u001b[0m\u001b[0m\n\u001b[0;32m----> 5\u001b[0;31m \u001b[0;32mimport\u001b[0m \u001b[0mskgeom\u001b[0m\u001b[0;34m\u001b[0m\u001b[0;34m\u001b[0m\u001b[0m\n\u001b[0m\u001b[1;32m      6\u001b[0m \u001b[0;31m#from skgeom import draw\u001b[0m\u001b[0;34m\u001b[0m\u001b[0;34m\u001b[0m\u001b[0;34m\u001b[0m\u001b[0m\n\u001b[1;32m      7\u001b[0m \u001b[0;34m\u001b[0m\u001b[0m\n",
      "\u001b[0;32m~/Desktop/My Documents/UCSD/Fall 2021 Quarter/CSE 276C - Mathematics for Robotics/Week 10/scikit-geometry/skgeom/__init__.py\u001b[0m in \u001b[0;36m<module>\u001b[0;34m\u001b[0m\n\u001b[1;32m      1\u001b[0m \u001b[0;31m# import all contents from C++ extension module\u001b[0m\u001b[0;34m\u001b[0m\u001b[0;34m\u001b[0m\u001b[0;34m\u001b[0m\u001b[0m\n\u001b[0;32m----> 2\u001b[0;31m \u001b[0;32mfrom\u001b[0m \u001b[0;34m.\u001b[0m\u001b[0m_skgeom\u001b[0m \u001b[0;32mimport\u001b[0m \u001b[0;34m*\u001b[0m\u001b[0;34m\u001b[0m\u001b[0;34m\u001b[0m\u001b[0m\n\u001b[0m\u001b[1;32m      3\u001b[0m \u001b[0;34m\u001b[0m\u001b[0m\n\u001b[1;32m      4\u001b[0m \u001b[0;32mfrom\u001b[0m \u001b[0;34m.\u001b[0m\u001b[0m_version\u001b[0m \u001b[0;32mimport\u001b[0m \u001b[0mversion_info\u001b[0m\u001b[0;34m,\u001b[0m \u001b[0m__version__\u001b[0m\u001b[0;34m\u001b[0m\u001b[0;34m\u001b[0m\u001b[0m\n",
      "\u001b[0;31mModuleNotFoundError\u001b[0m: No module named 'skgeom._skgeom'"
     ]
    }
   ],
   "source": [
    "# Import necessary libraries\n",
    "import matplotlib.pyplot as plt\n",
    "from matplotlib.patches import Rectangle\n",
    "import numpy as np\n",
    "import skgeom\n",
    "#from skgeom import draw\n",
    "\n",
    "## Configuration\n",
    "# Grid Resolution\n",
    "grid_res = 2\n",
    "angle_res = 5\n",
    "\n",
    "# R2-D2 Robot Size\n",
    "R2_D2_Robot_Size = np.array([50, 50])\n",
    "\n",
    "# Starting point and end point from second part of the problem\n",
    "strt_pt = np.array([50, 50])\n",
    "end_pt = np.array([750, 50])\n",
    "\n",
    "# Map Size\n",
    "map_size_Width = (0, 800) # Width\n",
    "map_size_Length = (0, 300) # Length\n",
    "\n",
    "# Major Grid Size\n",
    "major_grid_Width = np.arange(0, 801, 50)\n",
    "major_grid_Length = np.arange(0, 301, 50)\n",
    "\n",
    "# Minor Grid Size\n",
    "minor_grid_Width = np.arange(0, 801, grid_res)\n",
    "minor_grid_Length = np.arange(0, 301, grid_res)\n",
    "\n",
    "# Thin and rigid walls (Robot Shall Not Pass! DANGER!)\n",
    "# [[[x-coords_line_1],[y-coords_line_1]],\n",
    "#  [[x-coords_line_2],[y-coords2_line_2]]]\n",
    "thin_walls = np.array([\n",
    "    [[0, 0], [0, 300]],     # Outer left wall\n",
    "    [[0, 0], [300, 800]],   # Outer top wall\n",
    "    [[800, 800], [300, 0]], # Outer right wall\n",
    "    [[800, 0], [0, 0]],      # Outer bottom wall\n",
    "    # Inner walls\n",
    "    [[200, 200],[0, 200]],\n",
    "    [[100, 300],[200, 200]],\n",
    "    [[400, 400],[100, 300]],\n",
    "    [[600, 600],[0, 200]],\n",
    "    [[500, 700],[200, 200]],\n",
    "])\n",
    "\n",
    "### A.) Plot the Configuration Space\n",
    "## 1.) Try plotting workspace first\n",
    "# a.) Define figure and axis, and set figure size\n",
    "fig, ax = plt.subplots(figsize = (16, 6))\n",
    "# b.) Label axis\n",
    "plt.xlabel('Width')\n",
    "plt.ylabel('Length')\n",
    "# c.) Set axis limit\n",
    "plt.xlim(map_size_Width)\n",
    "plt.ylim(map_size_Length)\n",
    "plt.gca().invert_yaxis()\n",
    "# d.) Plot major grid\n",
    "ax.set_xticks(major_grid_Width)\n",
    "ax.set_yticks(major_grid_Length)\n",
    "plt.grid(b=True, which='major', linestyle='-') # Major grid parameters\n",
    "# e.) Plot minor grid\n",
    "ax.set_xticks(minor_grid_Width, minor = True)  # Set the grid resolution to 2 x 2\n",
    "ax.set_yticks(minor_grid_Length, minor = True) # Set the grid resolution to 2 x 2\n",
    "plt.grid(b=True, which='minor', linestyle='-', alpha=0.2) # Minor grid parameters\n",
    "ax.tick_params(which='minor', bottom=False, left=False) # Hide grid\n",
    "# f.) Plot walls in red\n",
    "# Outer walls\n",
    "for spine in ax.spines.values():\n",
    "    spine.set_edgecolor('red')\n",
    "# Inner walls\n",
    "for idx in range(0, thin_walls.shape[0]):\n",
    "    if idx == 1:\n",
    "        plt.plot(thin_walls[idx][0], thin_walls[idx][1], '-r', label = \"Rigid Wall\", zorder = 1)\n",
    "        continue\n",
    "    plt.plot(thin_walls[idx][0], thin_walls[idx][1], '-r', zorder = 1)\n",
    "    \n",
    "# g.) Plot the initial location of the robot\n",
    "ax.add_patch(Rectangle((strt_pt[0]-R2_D2_Robot_Size[0]/2, strt_pt[1]-R2_D2_Robot_Size[0]/2), \n",
    "                        R2_D2_Robot_Size[0], R2_D2_Robot_Size[1],\n",
    "                        edgecolor = 'blue',\n",
    "                        facecolor = 'cyan',\n",
    "                        fill = True,\n",
    "                        lw = 1,\n",
    "                        angle = 0,\n",
    "                        label = \"Robot\"))\n",
    "# h.) Plot the starting location and the ending location\n",
    "plt.plot(strt_pt[0], strt_pt[1], 'ko', label =\"Starting Point\", markersize = 8)\n",
    "plt.plot(end_pt[0], end_pt[1], 'mx', label =\"End Point\", markersize = 8)\n",
    "# f.) Plot title\n",
    "plt.title(\"Workspace\", fontsize = 20, fontweight = \"bold\")\n",
    "plt.legend(bbox_to_anchor=(1.04,0.5), loc=\"center left\", borderaxespad=0)\n",
    "plt.show()\n"
   ]
  },
  {
   "cell_type": "code",
   "execution_count": 134,
   "metadata": {},
   "outputs": [
    {
     "name": "stdout",
     "output_type": "stream",
     "text": [
      "50\n"
     ]
    }
   ],
   "source": [
    "a = 5 * round(48/5)\n",
    "print(a)\n"
   ]
  },
  {
   "cell_type": "code",
   "execution_count": 135,
   "metadata": {},
   "outputs": [
    {
     "data": {
      "image/png": "[encoded data removed]",
      "text/plain": [
       "<Figure size 1152x432 with 1 Axes>"
      ]
     },
     "metadata": {
      "needs_background": "light"
     },
     "output_type": "display_data"
    }
   ],
   "source": [
    "# Plot the configuration space with different orientation of the robots\n",
    "## 1.) Plot configuration space with the robot orientation at 0 degree\n",
    "# a.) Define figure and axis, and set figure size\n",
    "fig, ax = plt.subplots(figsize = (16, 6))\n",
    "# b.) Label axis\n",
    "plt.xlabel('Width')\n",
    "plt.ylabel('Length')\n",
    "# c.) Set axis limit\n",
    "plt.xlim(map_size_Width)\n",
    "plt.ylim(map_size_Length)\n",
    "plt.gca().invert_yaxis()\n",
    "# d.) Plot major grid\n",
    "ax.set_xticks(major_grid_Width)\n",
    "ax.set_yticks(major_grid_Length)\n",
    "plt.grid(b=True, which='major', linestyle='-') # Major grid parameters\n",
    "# e.) Plot minor grid\n",
    "ax.set_xticks(minor_grid_Width, minor = True)  # Set the grid resolution to 2 x 2\n",
    "ax.set_yticks(minor_grid_Length, minor = True) # Set the grid resolution to 2 x 2\n",
    "plt.grid(b=True, which='minor', linestyle='-', alpha=0.2) # Minor grid parameters\n",
    "ax.tick_params(which='minor', bottom=False, left=False) # Hide grid\n",
    "# f.) Plot walls in red\n",
    "# Outer walls\n",
    "for spine in ax.spines.values():\n",
    "    spine.set_edgecolor('red')\n",
    "# Inner walls\n",
    "for idx in range(0, thin_walls.shape[0]):\n",
    "    if idx == 1:\n",
    "        plt.plot(thin_walls[idx][0], thin_walls[idx][1], '-r', label = \"Rigid Wall\", zorder = 1)\n",
    "        continue\n",
    "    plt.plot(thin_walls[idx][0], thin_walls[idx][1], '-r', zorder = 1)\n",
    "    \n",
    "# g.) Plot the initial location of the robot\n",
    "ax.add_patch(Rectangle((strt_pt[0]-R2_D2_Robot_Size[0]/2, strt_pt[1]-R2_D2_Robot_Size[0]/2), \n",
    "                        R2_D2_Robot_Size[0], R2_D2_Robot_Size[1],\n",
    "                        edgecolor = 'blue',\n",
    "                        facecolor = 'cyan',\n",
    "                        fill = True,\n",
    "                        lw = 1,\n",
    "                        angle = 0,\n",
    "                        label = \"Robot\"))\n",
    "ax.add_patch(Rectangle((200-R2_D2_Robot_Size[0]/2, 100-R2_D2_Robot_Size[0]/2), \n",
    "                        R2_D2_Robot_Size[0], R2_D2_Robot_Size[1],\n",
    "                        edgecolor = 'orange',\n",
    "                        facecolor = 'orange',\n",
    "                        fill = True,\n",
    "                        lw = 1,\n",
    "                        angle = 0,\n",
    "                        label = \"Robot\"))\n",
    "# h.) Plot the starting location and the ending location\n",
    "plt.plot(strt_pt[0], strt_pt[1], 'ko', label =\"Starting Point\", markersize = 8)\n",
    "plt.plot(end_pt[0], end_pt[1], 'mx', label =\"End Point\", markersize = 8)\n",
    "# f.) Plot title\n",
    "plt.title(\"Configuration Space \", fontsize = 20, fontweight = \"bold\")\n",
    "plt.legend(bbox_to_anchor=(1.04,0.5), loc=\"center left\", borderaxespad=0)\n",
    "plt.show()\n"
   ]
  },
  {
   "cell_type": "code",
   "execution_count": 57,
   "metadata": {},
   "outputs": [
    {
     "name": "stdout",
     "output_type": "stream",
     "text": [
      "(4, 2, 2)\n"
     ]
    }
   ],
   "source": [
    "thin_walls = np.array([\n",
    "    [[0, 0], [0, 300]],     # Outer left wall\n",
    "    [[0, 0], [300, 800]],   # Outer top wall\n",
    "    [[800, 800], [300, 0]], # Outer right wall\n",
    "    [[800, 0], [0, 0]]     # Outer bottom wall\n",
    "])\n",
    "print(thin_walls.shape)"
   ]
  },
  {
   "cell_type": "markdown",
   "metadata": {},
   "source": [
    "### Problem 2\n",
    "Use greedy search to find the shortest path between start-point (50,50) and end-point (750,50). Illustrate the path and provide its length."
   ]
  },
  {
   "cell_type": "markdown",
   "metadata": {},
   "source": [
    "### Problem 3\n",
    "Compute the safest path from start to finish (hint: medial axis transform/Voronoi). Illustrate the path and provide its length."
   ]
  },
  {
   "cell_type": "markdown",
   "metadata": {},
   "source": [
    "### Problem 4\n",
    "Use probabilistic roadmaps (PRM) to compute a path between startand end-points with 50, 100 and 500 sample points. What is the difference in path length? Illustrate each computed path."
   ]
  },
  {
   "cell_type": "markdown",
   "metadata": {},
   "source": [
    "### Problem 5\n",
    "Do the same with Rapid exploring random trees (RRT). What are the main differences in performance between PRM and RRT? Illustrate each path."
   ]
  }
 ],
 "metadata": {
  "kernelspec": {
   "display_name": "Python 3",
   "language": "python",
   "name": "python3"
  },
  "language_info": {
   "codemirror_mode": {
    "name": "ipython",
    "version": 3
   },
   "file_extension": ".py",
   "mimetype": "text/x-python",
   "name": "python",
   "nbconvert_exporter": "python",
   "pygments_lexer": "ipython3",
   "version": "3.7.6"
  }
 },
 "nbformat": 4,
 "nbformat_minor": 4
}
